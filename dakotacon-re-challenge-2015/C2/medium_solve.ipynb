{
 "cells": [
  {
   "cell_type": "code",
   "execution_count": 1,
   "metadata": {
    "collapsed": true
   },
   "outputs": [],
   "source": [
    "import angr\n",
    "import simuvex\n",
    "import binascii\n",
    "angr.path_group.l.setLevel('ERROR') # Can set to 'DEBUG' for more verbose output\n",
    "\n",
    "stdin1 = None"
   ]
  },
  {
   "cell_type": "code",
   "execution_count": 2,
   "metadata": {
    "collapsed": false
   },
   "outputs": [
    {
     "name": "stderr",
     "output_type": "stream",
     "text": [
      "WARNING | 2016-10-18 12:04:27,625 | \u001b[35mcle.pe\u001b[0m | \u001b[35mThe PE module is not well-supported. Good luck!\u001b[0m\n"
     ]
    }
   ],
   "source": [
    "def printf_hook(state):\n",
    "    # print 'printf' # Uncomment this if you want to see if/when this gets called.\n",
    "    state.regs.eax = 0 # 0 actually means 0 characters were printed, but the value isn't checked, so...\n",
    "    \n",
    "def scanf_hook(state):\n",
    "    # print 'scanf' # Uncomment this if you want to see if/when this gets called.\n",
    "    # print hex(state.se.any_int(state.regs.esp) + 0x4) # Printing the address of the arg on the stack...\n",
    "    \n",
    "    # Store a \"pointer\" to the symbolic string on the stack,\n",
    "    # in the location of the 'target' variable for the real scanf.\n",
    "    # i.e. if the code was `scanf(\"%s\", &str)`, we're putting the `stdin`\n",
    "    # symbolic string on the stack where &str would have been.\n",
    "    state.memory.store(state.se.any_int(state.regs.esp) + 4, stdin1)\n",
    "\n",
    "p = angr.Project('medium.exe', load_options={'auto_load_libs':False})\n",
    "\n",
    "# Hooks for calls to printf and scanf.\n",
    "# If you don't hook these, Angr gets\n",
    "# unhappy -- so, better to avoid letting\n",
    "# it branch into these symbolically by\n",
    "# hooking.\n",
    "p.hook(0x4010B7, scanf_hook, length=5)\n",
    "p.hook(0x4010A6, printf_hook, length=5)\n"
   ]
  },
  {
   "cell_type": "code",
   "execution_count": 3,
   "metadata": {
    "collapsed": false
   },
   "outputs": [],
   "source": [
    "#initial_state = p.factory.blank_state(addr=0x00401090, remove_options={simuvex.s_options.LAZY_SOLVES})\n",
    "initial_state = p.factory.blank_state(addr=0x00401090) # Will still quickly solve without LAZY_SOLVES disabled.\n",
    "#initial_state = p.factory.blank_state(addr=0x004010BF, remove_options={simuvex.s_options.LAZY_SOLVES})\n",
    "#initial_state.regs.esp = 0xF0000000 # Don't actually need to set these, but can be useful for troubleshooting\n",
    "#initial_state.regs.ebp = 0xE0000000\n",
    "\n",
    "\n",
    "# Create a symbolic string. 8 bits & 50 to make a\n",
    "# 50-char symbolic string.\n",
    "stdin1 = initial_state.se.BVS(\"stdin1\", 8 * 50)\n"
   ]
  },
  {
   "cell_type": "code",
   "execution_count": 4,
   "metadata": {
    "collapsed": false
   },
   "outputs": [
    {
     "data": {
      "text/plain": [
       "<PathGroup with 43 avoid, 42 unsat, 3 active, 1 found>"
      ]
     },
     "execution_count": 4,
     "metadata": {},
     "output_type": "execute_result"
    }
   ],
   "source": [
    "initial_path = p.factory.path(initial_state)\n",
    "path_group = p.factory.path_group(initial_state)\n",
    "\n",
    "# `find` is the address of `printf(\"You got it!\\n\")`\n",
    "# `avoid` is the address of the instructions immediately\n",
    "# after the printf branch, which would indicate a wrong password.\n",
    "path_group.explore(find=(0x401189,), avoid=(0x401196,))"
   ]
  },
  {
   "cell_type": "code",
   "execution_count": 5,
   "metadata": {
    "collapsed": false
   },
   "outputs": [
    {
     "name": "stdout",
     "output_type": "stream",
     "text": [
      "\u0000\u0000\u0000\u0000\u0000\u0000\u0000\u0000milhous.30+the_Biggest_Goat_Ever@gmail.com\n"
     ]
    }
   ],
   "source": [
    "found = path_group.found[0]\n",
    "\n",
    "#print found.state.regs.ip # Print EIP.\n",
    "print found.state.se.any_str(stdin1)"
   ]
  },
  {
   "cell_type": "code",
   "execution_count": null,
   "metadata": {
    "collapsed": true
   },
   "outputs": [],
   "source": []
  },
  {
   "cell_type": "code",
   "execution_count": null,
   "metadata": {
    "collapsed": true
   },
   "outputs": [],
   "source": []
  }
 ],
 "metadata": {
  "celltoolbar": "Slideshow",
  "kernelspec": {
   "display_name": "PyPy",
   "language": "python",
   "name": "python2"
  },
  "language_info": {
   "codemirror_mode": {
    "name": "ipython",
    "version": 2
   },
   "file_extension": ".py",
   "mimetype": "text/x-python",
   "name": "python",
   "nbconvert_exporter": "python",
   "pygments_lexer": "ipython2",
   "version": "2.7.8"
  }
 },
 "nbformat": 4,
 "nbformat_minor": 1
}
